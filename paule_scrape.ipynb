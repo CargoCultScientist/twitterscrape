{
 "cells": [
  {
   "cell_type": "code",
   "execution_count": 1,
   "metadata": {},
   "outputs": [],
   "source": [
    "import pandas as pd\n",
    "from tqdm.notebook import tqdm\n",
    "import snscrape.modules.twitter as sntwitter"
   ]
  },
  {
   "cell_type": "code",
   "execution_count": 5,
   "metadata": {},
   "outputs": [],
   "source": [
    "import snscrape.modules.twitter as sntwitter\n",
    "import pandas as pd\n",
    "\n",
    "# Creating list to append tweet data to\n",
    "tweets_list1 = []\n",
    "\n",
    "# Using TwitterSearchScraper to scrape data and append tweets to list\n",
    "for i, tweet in enumerate(sntwitter.TwitterSearchScraper('from:bifoldberlin').get_items()):\n",
    "    if i > 10000:\n",
    "        break\n",
    "    tweets_list1.append([tweet.date, tweet.id, tweet.rawContent, tweet.user.username])\n",
    "\n",
    "# Creating a dataframe from the tweets list above\n",
    "tweets_df1 = pd.DataFrame(tweets_list1, columns=['Datetime', 'Tweet Id', 'Text', 'Username'])\n",
    "tweets_df1.to_csv('from_bifoldberlin.csv', index=False)\n"
   ]
  },
  {
   "cell_type": "code",
   "execution_count": 6,
   "metadata": {},
   "outputs": [
    {
     "name": "stdout",
     "output_type": "stream",
     "text": [
      "https://twitter.com/bifoldberlin/status/526661040516644864\n"
     ]
    }
   ],
   "source": [
    "print(tweet)"
   ]
  },
  {
   "cell_type": "code",
   "execution_count": 7,
   "metadata": {},
   "outputs": [],
   "source": [
    "import snscrape.modules.twitter as sntwitter\n",
    "import pandas as pd\n",
    "\n",
    "scraper = sntwitter.TwitterSearchScraper('from:bifoldberlin')\n",
    "\n",
    "for tweet in scraper.get_items():\n",
    "    break"
   ]
  },
  {
   "cell_type": "code",
   "execution_count": 8,
   "metadata": {},
   "outputs": [
    {
     "data": {
      "text/plain": [
       "Tweet(url='https://twitter.com/bifoldberlin/status/1628759529872580613', date=datetime.datetime(2023, 2, 23, 14, 11, 47, tzinfo=datetime.timezone.utc), rawContent='Fancy internationally competitive #AIResearch ? Interested to establish a new #AI #research  institute? Have a look at our website - we are #hiring  👉https://t.co/QHcrAgRGAV https://t.co/3ZjaCRAIzE', renderedContent='Fancy internationally competitive #AIResearch ? Interested to establish a new #AI #research  institute? Have a look at our website - we are #hiring  👉bifold.berlin/about-us/oppor… https://t.co/3ZjaCRAIzE', id=1628759529872580613, user=User(username='bifoldberlin', id=2846435699, displayname='BIFOLD', rawDescription='#BIFOLD merges #MachineLearning and #BigData research to empower #AI innovation in the sciences and humanities, industry, startups and society.', renderedDescription='#BIFOLD merges #MachineLearning and #BigData research to empower #AI innovation in the sciences and humanities, industry, startups and society.', descriptionLinks=None, verified=False, created=datetime.datetime(2014, 10, 27, 9, 1, 57, tzinfo=datetime.timezone.utc), followersCount=849, friendsCount=183, statusesCount=500, favouritesCount=644, listedCount=13, mediaCount=78, location='Berlin', protected=False, link=TextLink(text='bifold.berlin', url='https://bifold.berlin/', tcourl='https://t.co/QzRpoWtGkx', indices=(0, 23)), profileImageUrl='https://pbs.twimg.com/profile_images/1582745634272153600/xv5Yz5zA_normal.jpg', profileBannerUrl='https://pbs.twimg.com/profile_banners/2846435699/1666191052', label=None), replyCount=0, retweetCount=4, likeCount=7, quoteCount=0, conversationId=1628759529872580613, lang='en', source='<a href=\"https://mobile.twitter.com\" rel=\"nofollow\">Twitter Web App</a>', sourceUrl='https://mobile.twitter.com', sourceLabel='Twitter Web App', links=[TextLink(text='bifold.berlin/about-us/oppor…', url='https://www.bifold.berlin/about-us/opportunities', tcourl='https://t.co/QHcrAgRGAV', indices=(150, 173))], media=[Photo(previewUrl='https://pbs.twimg.com/media/FpqCIpiWYAMh0RQ?format=jpg&name=small', fullUrl='https://pbs.twimg.com/media/FpqCIpiWYAMh0RQ?format=jpg&name=orig', altText=None)], retweetedTweet=None, quotedTweet=None, inReplyToTweetId=None, inReplyToUser=None, mentionedUsers=None, coordinates=None, place=None, hashtags=['AIResearch', 'AI', 'research', 'hiring'], cashtags=None, card=None, viewCount=404, vibe=None)"
      ]
     },
     "metadata": {},
     "output_type": "display_data"
    }
   ],
   "source": [
    "display(tweet)"
   ]
  },
  {
   "cell_type": "code",
   "execution_count": 12,
   "metadata": {},
   "outputs": [],
   "source": [
    "data = [tweet.id, tweet.rawContent, tweet.user.username, tweet.likeCount, tweet.retweetCount, tweet.replyCount, tweet.quoteCount,]\n"
   ]
  },
  {
   "cell_type": "code",
   "execution_count": 16,
   "metadata": {},
   "outputs": [],
   "source": [
    "# Importiere das sntwitter Modul und initialisiere einen TwitterSearchScraper für den Benutzer @bifoldberlin\n",
    "scraper = sntwitter.TwitterSearchScraper('from:bifoldberlin')\n",
    "\n",
    "# Iteriere durch die Tweets, die vom Scraper zurückgegeben werden\n",
    "for i, tweet in enumerate(scraper.get_items()):\n",
    "    # Erstelle ein DataFrame tweet_dataframe mit wichtigen Daten des Tweets (ID, Inhalt, Benutzername, Likes, Retweets, Antworten, Zitate)\n",
    "    tweet_dataframe = [tweet.id, tweet.rawContent, tweet.user.username, tweet.likeCount, tweet.retweetCount, tweet.replyCount, tweet.quoteCount,]\n",
    "    # Füge das DataFrame in eine Liste von Datenframes hinzu\n",
    "    tweet_dataframe.append(data)\n",
    "    # Stoppe die Schleife nach 10000 Tweets\n",
    "    if i > 10000:\n",
    "        break \n"
   ]
  },
  {
   "cell_type": "code",
   "execution_count": 3,
   "metadata": {},
   "outputs": [],
   "source": [
    "import spacy as sp\n",
    "import nltk as nl"
   ]
  },
  {
   "cell_type": "code",
   "execution_count": null,
   "metadata": {},
   "outputs": [],
   "source": []
  }
 ],
 "metadata": {
  "kernelspec": {
   "display_name": "Python 3",
   "language": "python",
   "name": "python3"
  },
  "language_info": {
   "codemirror_mode": {
    "name": "ipython",
    "version": 3
   },
   "file_extension": ".py",
   "mimetype": "text/x-python",
   "name": "python",
   "nbconvert_exporter": "python",
   "pygments_lexer": "ipython3",
   "version": "3.11.0"
  },
  "orig_nbformat": 4
 },
 "nbformat": 4,
 "nbformat_minor": 2
}
